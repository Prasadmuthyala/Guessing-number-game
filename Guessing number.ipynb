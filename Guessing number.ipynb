{
 "cells": [
  {
   "cell_type": "code",
   "execution_count": 1,
   "metadata": {},
   "outputs": [],
   "source": [
    "import tkinter as tk\n",
    "from tkinter import *\n",
    "import random\n",
    "import os\n",
    "from PIL import Image, ImageTk"
   ]
  },
  {
   "cell_type": "code",
   "execution_count": 169,
   "metadata": {},
   "outputs": [],
   "source": [
    "top=tk.Tk()\n",
    "top.geometry(\"650x650\")\n",
    "top.configure(bg=\"light green\")\n",
    "top.title(\"Number Guessing Game\")\n",
    "msg=Label(top,text=\"Enter a number only from 1 to 20\").place(x=250,y=100)\n",
    "msg=Label(top,text=\"NOTE : Remove Default Number from input field and enter your number\").place(x=150,y=500)\n",
    "choice= IntVar()\n",
    "result = StringVar()\n",
    "no=random.randint(1,20)\n",
    "def fun():\n",
    "    if no==choice.get()  :\n",
    "        result.set(\"Congratulation YOU WON!!!\")\n",
    "    elif no>choice.get()  :\n",
    "        result.set(\"you lost!!you guessed lesser number:) better luck next time\")\n",
    "    elif no<choice.get() :\n",
    "        result.set(\"you lost!!you guessed  higher number:) better luck next time\" )\n",
    "def restart():\n",
    "  no=random.randint(1,20)\n",
    "  choice.set(0)\n",
    "  result.set(\" \")\n",
    "e1=Entry(top,textvariable=choice).place(x=280,y=150 )\n",
    "e2=Entry(top,textvariable=result,width=55,relief=GROOVE).place(x=200,y=300)\n",
    "b = Button(top,text = \"SUBMIT\",command=fun).place(x=320,y=200) \n",
    "b2=Button(top, text=\"Quit\", command=top.destroy,bg=\"red\").place(x=100,y=400)\n",
    "reset = tk.Button(top, text='Restart', width=40, command=restart,\n",
    "                 bg=\"red\", activebackground=\"red\", relief=GROOVE).place(x=220,y=400) \n",
    "\n",
    "top.mainloop()"
   ]
  },
  {
   "cell_type": "code",
   "execution_count": null,
   "metadata": {},
   "outputs": [],
   "source": []
  }
 ],
 "metadata": {
  "kernelspec": {
   "display_name": "Python 3",
   "language": "python",
   "name": "python3"
  },
  "language_info": {
   "codemirror_mode": {
    "name": "ipython",
    "version": 3
   },
   "file_extension": ".py",
   "mimetype": "text/x-python",
   "name": "python",
   "nbconvert_exporter": "python",
   "pygments_lexer": "ipython3",
   "version": "3.8.5"
  }
 },
 "nbformat": 4,
 "nbformat_minor": 4
}
